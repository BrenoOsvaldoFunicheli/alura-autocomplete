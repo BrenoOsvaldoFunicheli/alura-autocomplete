{
 "cells": [
  {
   "cell_type": "markdown",
   "id": "03c6db9c-ff4a-464c-8250-f833879fd840",
   "metadata": {},
   "source": [
    "curl -fsSL https://elastic.co/start-local | sh"
   ]
  },
  {
   "cell_type": "code",
   "execution_count": null,
   "id": "3b8b7890-60b0-4455-a54f-a84575f8829b",
   "metadata": {},
   "outputs": [],
   "source": [
    "🎉 Congrats, Elasticsearch and Kibana are installed and running in Docker!\n",
    "\n",
    "🌐 Open your browser at http://localhost:5601\n",
    "\n",
    "   Username: elastic\n",
    "   Password: XxZiSgIG\n",
    "\n",
    "🔌 Elasticsearch API endpoint: http://localhost:9200\n",
    "🔑 API key: NDFfSERKWUJzZU9SRndmWk9KbFg6dU95a2pCUW9SenlnT3lKWF9SQzJaZw==\n",
    "\n",
    "\n",
    "Learn more at https://github.com/elastic/start-local"
   ]
  }
 ],
 "metadata": {
  "kernelspec": {
   "display_name": "Python 3 (ipykernel)",
   "language": "python",
   "name": "python3"
  },
  "language_info": {
   "codemirror_mode": {
    "name": "ipython",
    "version": 3
   },
   "file_extension": ".py",
   "mimetype": "text/x-python",
   "name": "python",
   "nbconvert_exporter": "python",
   "pygments_lexer": "ipython3",
   "version": "3.10.17"
  }
 },
 "nbformat": 4,
 "nbformat_minor": 5
}
