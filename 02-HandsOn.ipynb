{
 "cells": [
  {
   "cell_type": "markdown",
   "id": "0615fd50-3900-45f6-aa3b-627500be05d5",
   "metadata": {},
   "source": [
    "## Lendo dados"
   ]
  },
  {
   "cell_type": "code",
   "execution_count": 3,
   "id": "94a1ed69-fded-47ec-910b-1f52dd0306bc",
   "metadata": {},
   "outputs": [],
   "source": [
    "import pandas as pd\n",
    "\n",
    "cursos = pd.read_json('data/alura-cursos-formacoes-dataset.json')"
   ]
  },
  {
   "cell_type": "code",
   "execution_count": 5,
   "id": "ec8e612c-47e0-4b97-810c-0a64b8451c70",
   "metadata": {},
   "outputs": [],
   "source": [
    "cursos['description'] = cursos['description'].apply(lambda x: x['raw'])\n",
    "\n",
    "cursos_df = cursos[['id','title','description','type','siteUrl']]"
   ]
  },
  {
   "cell_type": "code",
   "execution_count": 6,
   "id": "1de6d3c9-fcc6-4ec1-b7c1-32805a88bc25",
   "metadata": {},
   "outputs": [
    {
     "data": {
      "text/html": [
       "<div>\n",
       "<style scoped>\n",
       "    .dataframe tbody tr th:only-of-type {\n",
       "        vertical-align: middle;\n",
       "    }\n",
       "\n",
       "    .dataframe tbody tr th {\n",
       "        vertical-align: top;\n",
       "    }\n",
       "\n",
       "    .dataframe thead th {\n",
       "        text-align: right;\n",
       "    }\n",
       "</style>\n",
       "<table border=\"1\" class=\"dataframe\">\n",
       "  <thead>\n",
       "    <tr style=\"text-align: right;\">\n",
       "      <th></th>\n",
       "      <th>id</th>\n",
       "      <th>title</th>\n",
       "      <th>description</th>\n",
       "      <th>type</th>\n",
       "      <th>siteUrl</th>\n",
       "    </tr>\n",
       "  </thead>\n",
       "  <tbody>\n",
       "    <tr>\n",
       "      <th>0</th>\n",
       "      <td>DEGREE-828628</td>\n",
       "      <td>Flutter: cursos para automatizar testes</td>\n",
       "      <td>&lt;p&gt;Aprenda a usar e personalizar testes automa...</td>\n",
       "      <td>DEGREE</td>\n",
       "      <td>/formacao-cursos-testes-automatizados-aplicati...</td>\n",
       "    </tr>\n",
       "    <tr>\n",
       "      <th>1</th>\n",
       "      <td>DEGREE-909375</td>\n",
       "      <td>Dart: cursos para aprender a linguagem utiliza...</td>\n",
       "      <td>&lt;p&gt;Se você busca uma linguagem para desenvolve...</td>\n",
       "      <td>DEGREE</td>\n",
       "      <td>/formacao-dart-cursos-aprender-linguagem-utili...</td>\n",
       "    </tr>\n",
       "    <tr>\n",
       "      <th>2</th>\n",
       "      <td>DEGREE-907699</td>\n",
       "      <td>CSS avançado: implementando designs com Grid, ...</td>\n",
       "      <td>&lt;p&gt;Se você já conhece &lt;strong&gt;HTML&lt;/strong&gt; e ...</td>\n",
       "      <td>DEGREE</td>\n",
       "      <td>/formacao-css-cursos-transformar-designs-grid-...</td>\n",
       "    </tr>\n",
       "    <tr>\n",
       "      <th>3</th>\n",
       "      <td>DEGREE-824634</td>\n",
       "      <td>Angular: construa um Design System com Nx, Mon...</td>\n",
       "      <td>&lt;p&gt;Nesta formação, você vai desenvolver do zer...</td>\n",
       "      <td>DEGREE</td>\n",
       "      <td>/formacao-angular-cursos-construir-design-syst...</td>\n",
       "    </tr>\n",
       "    <tr>\n",
       "      <th>4</th>\n",
       "      <td>DEGREE-515205</td>\n",
       "      <td>Certificação AZ-900: Microsoft Azure Fundamentals</td>\n",
       "      <td>&lt;p&gt;O curso &lt;strong&gt;AZ-900 - Microsoft Azure Fu...</td>\n",
       "      <td>DEGREE</td>\n",
       "      <td>/formacao-certificacao-az-900-microsoft-azure-...</td>\n",
       "    </tr>\n",
       "    <tr>\n",
       "      <th>...</th>\n",
       "      <td>...</td>\n",
       "      <td>...</td>\n",
       "      <td>...</td>\n",
       "      <td>...</td>\n",
       "      <td>...</td>\n",
       "    </tr>\n",
       "    <tr>\n",
       "      <th>2495</th>\n",
       "      <td>HIPSTERSTECH-448</td>\n",
       "      <td>Primeiros Passos em Data Science: Do Excel e B...</td>\n",
       "      <td>&lt;p&gt;Escutamos falar muito sobre data science ou...</td>\n",
       "      <td>HIPSTERSTECH</td>\n",
       "      <td>https://www.alura.com.br/podcast/primeiros-pas...</td>\n",
       "    </tr>\n",
       "    <tr>\n",
       "      <th>2496</th>\n",
       "      <td>DEVSEMFRONTEIRAS-9178</td>\n",
       "      <td>Engenheiro de Software PHP em Helsinque, Finlâ...</td>\n",
       "      <td>&lt;p&gt;O mossoroense Cid Lopes se familiarizou com...</td>\n",
       "      <td>DEVSEMFRONTEIRAS</td>\n",
       "      <td>https://www.alura.com.br/podcast/engenheiro-de...</td>\n",
       "    </tr>\n",
       "    <tr>\n",
       "      <th>2497</th>\n",
       "      <td>HIPSTERSTECH-9157</td>\n",
       "      <td>Histórias de Black Friday na Tecnologia – Hips...</td>\n",
       "      <td>&lt;p&gt;Hoje o papo é sobre Black Friday!&lt;/p&gt;\\n&lt;p&gt;N...</td>\n",
       "      <td>HIPSTERSTECH</td>\n",
       "      <td>https://www.alura.com.br/podcast/historias-de-...</td>\n",
       "    </tr>\n",
       "    <tr>\n",
       "      <th>2498</th>\n",
       "      <td>HIPSTERSTECH-9241</td>\n",
       "      <td>Case Livelo: Order Management System – Hipster...</td>\n",
       "      <td>&lt;p&gt;Hoje o papo é sobre OMS!&lt;/p&gt;\\n&lt;p&gt;Neste epis...</td>\n",
       "      <td>HIPSTERSTECH</td>\n",
       "      <td>https://www.alura.com.br/podcast/case-livelo-o...</td>\n",
       "    </tr>\n",
       "    <tr>\n",
       "      <th>2499</th>\n",
       "      <td>HIPSTERSTECH-570</td>\n",
       "      <td>Single Page Applications – Hipsters #16</td>\n",
       "      <td>&lt;p&gt;Criar uma única página que dê a sensação de...</td>\n",
       "      <td>HIPSTERSTECH</td>\n",
       "      <td>https://www.alura.com.br/podcast/single-page-a...</td>\n",
       "    </tr>\n",
       "  </tbody>\n",
       "</table>\n",
       "<p>2500 rows × 5 columns</p>\n",
       "</div>"
      ],
      "text/plain": [
       "                         id  \\\n",
       "0             DEGREE-828628   \n",
       "1             DEGREE-909375   \n",
       "2             DEGREE-907699   \n",
       "3             DEGREE-824634   \n",
       "4             DEGREE-515205   \n",
       "...                     ...   \n",
       "2495       HIPSTERSTECH-448   \n",
       "2496  DEVSEMFRONTEIRAS-9178   \n",
       "2497      HIPSTERSTECH-9157   \n",
       "2498      HIPSTERSTECH-9241   \n",
       "2499       HIPSTERSTECH-570   \n",
       "\n",
       "                                                  title  \\\n",
       "0               Flutter: cursos para automatizar testes   \n",
       "1     Dart: cursos para aprender a linguagem utiliza...   \n",
       "2     CSS avançado: implementando designs com Grid, ...   \n",
       "3     Angular: construa um Design System com Nx, Mon...   \n",
       "4     Certificação AZ-900: Microsoft Azure Fundamentals   \n",
       "...                                                 ...   \n",
       "2495  Primeiros Passos em Data Science: Do Excel e B...   \n",
       "2496  Engenheiro de Software PHP em Helsinque, Finlâ...   \n",
       "2497  Histórias de Black Friday na Tecnologia – Hips...   \n",
       "2498  Case Livelo: Order Management System – Hipster...   \n",
       "2499            Single Page Applications – Hipsters #16   \n",
       "\n",
       "                                            description              type  \\\n",
       "0     <p>Aprenda a usar e personalizar testes automa...            DEGREE   \n",
       "1     <p>Se você busca uma linguagem para desenvolve...            DEGREE   \n",
       "2     <p>Se você já conhece <strong>HTML</strong> e ...            DEGREE   \n",
       "3     <p>Nesta formação, você vai desenvolver do zer...            DEGREE   \n",
       "4     <p>O curso <strong>AZ-900 - Microsoft Azure Fu...            DEGREE   \n",
       "...                                                 ...               ...   \n",
       "2495  <p>Escutamos falar muito sobre data science ou...      HIPSTERSTECH   \n",
       "2496  <p>O mossoroense Cid Lopes se familiarizou com...  DEVSEMFRONTEIRAS   \n",
       "2497  <p>Hoje o papo é sobre Black Friday!</p>\\n<p>N...      HIPSTERSTECH   \n",
       "2498  <p>Hoje o papo é sobre OMS!</p>\\n<p>Neste epis...      HIPSTERSTECH   \n",
       "2499  <p>Criar uma única página que dê a sensação de...      HIPSTERSTECH   \n",
       "\n",
       "                                                siteUrl  \n",
       "0     /formacao-cursos-testes-automatizados-aplicati...  \n",
       "1     /formacao-dart-cursos-aprender-linguagem-utili...  \n",
       "2     /formacao-css-cursos-transformar-designs-grid-...  \n",
       "3     /formacao-angular-cursos-construir-design-syst...  \n",
       "4     /formacao-certificacao-az-900-microsoft-azure-...  \n",
       "...                                                 ...  \n",
       "2495  https://www.alura.com.br/podcast/primeiros-pas...  \n",
       "2496  https://www.alura.com.br/podcast/engenheiro-de...  \n",
       "2497  https://www.alura.com.br/podcast/historias-de-...  \n",
       "2498  https://www.alura.com.br/podcast/case-livelo-o...  \n",
       "2499  https://www.alura.com.br/podcast/single-page-a...  \n",
       "\n",
       "[2500 rows x 5 columns]"
      ]
     },
     "execution_count": 6,
     "metadata": {},
     "output_type": "execute_result"
    }
   ],
   "source": [
    "cursos_df"
   ]
  },
  {
   "cell_type": "markdown",
   "id": "0a384ae1-9002-4957-82d7-336de3c3e0e5",
   "metadata": {},
   "source": [
    "## Começando com CRUD"
   ]
  },
  {
   "cell_type": "markdown",
   "id": "c9930a46-0a8c-43f6-a1f4-9040858f2999",
   "metadata": {},
   "source": [
    "### Criando cliente"
   ]
  },
  {
   "cell_type": "code",
   "execution_count": 7,
   "id": "c98ccdeb-f2aa-4119-b3f6-af4ffc8202c5",
   "metadata": {},
   "outputs": [
    {
     "name": "stdout",
     "output_type": "stream",
     "text": [
      "Conexão bem-sucedida ao Elasticsearch!\n"
     ]
    },
    {
     "name": "stderr",
     "output_type": "stream",
     "text": [
      "/tmp/ipykernel_49650/2922222961.py:12: DeprecationWarning: The 'http_auth' parameter is deprecated. Use 'basic_auth' or 'bearer_auth' parameters instead\n",
      "  es = Elasticsearch(\n"
     ]
    }
   ],
   "source": [
    "password='XxZiSgIG'\n",
    "\n",
    "from elasticsearch import Elasticsearch\n",
    "\n",
    "\n",
    "# Configurações do Elasticsearch\n",
    "ELASTICSEARCH_HOST = \"http://localhost:9200/\"\n",
    "ELASTICSEARCH_USER = \"elastic\"  # Usuário padrão\n",
    "ELASTICSEARCH_PASSWORD = password  # senha \n",
    "\n",
    "# Conectar ao Elasticsearch\n",
    "es = Elasticsearch(\n",
    "    [ELASTICSEARCH_HOST],\n",
    "    http_auth=(ELASTICSEARCH_USER, ELASTICSEARCH_PASSWORD),\n",
    "    verify_certs=False  # Desabilitar a verificação do SSL\n",
    ")\n",
    "\n",
    "# Verificar a conexão\n",
    "if es.ping():\n",
    "    print(\"Conexão bem-sucedida ao Elasticsearch!\")\n",
    "else:\n",
    "    print(\"Falha ao conectar ao Elasticsearch. Verifique as configurações.\")\n"
   ]
  },
  {
   "cell_type": "markdown",
   "id": "8423a91f-b645-4f01-859a-72b7f9746079",
   "metadata": {},
   "source": [
    "### Criando um Index"
   ]
  },
  {
   "cell_type": "code",
   "execution_count": 9,
   "id": "9ad340b7-337d-4c03-9c13-adf7c2450653",
   "metadata": {},
   "outputs": [
    {
     "name": "stdout",
     "output_type": "stream",
     "text": [
      "{'acknowledged': True, 'shards_acknowledged': True, 'index': 'alura-cursos'}\n"
     ]
    }
   ],
   "source": [
    "response = es.indices.create(index='alura-cursos')\n",
    "\n",
    "print(response)"
   ]
  },
  {
   "cell_type": "markdown",
   "id": "67110201-ea82-47be-869c-8910aafc5e82",
   "metadata": {},
   "source": [
    "### Deletando o index"
   ]
  },
  {
   "cell_type": "code",
   "execution_count": 8,
   "id": "d42525bf-4aff-464b-9c82-6bc8f39c5929",
   "metadata": {},
   "outputs": [],
   "source": [
    "response = es.indices.delete(index='alura-cursos')"
   ]
  },
  {
   "cell_type": "markdown",
   "id": "adea96d6-b86c-4fb4-b943-b818df5facca",
   "metadata": {},
   "source": [
    "### Inserindo Documentos"
   ]
  },
  {
   "cell_type": "code",
   "execution_count": 10,
   "id": "003b27af-172a-40e0-8527-30943a226911",
   "metadata": {},
   "outputs": [],
   "source": [
    "registro = dict(cursos_df.iloc[0])"
   ]
  },
  {
   "cell_type": "code",
   "execution_count": 11,
   "id": "07aee1d5-e3b3-405c-9ab0-8485942095bf",
   "metadata": {},
   "outputs": [
    {
     "data": {
      "text/plain": [
       "{'id': 'DEGREE-828628',\n",
       " 'title': 'Flutter: cursos para automatizar testes',\n",
       " 'description': '<p>Aprenda a usar e personalizar testes automatizados - a ferramenta do Flutter para garantir a qualidade do código, descubra como criar testes de unidade, de widgets, e de integração, a simular dependências externas usando o mockito e otimizar a cobertura de testes!</p>\\r\\n',\n",
       " 'type': 'DEGREE',\n",
       " 'siteUrl': '/formacao-cursos-testes-automatizados-aplicativos-flutter'}"
      ]
     },
     "execution_count": 11,
     "metadata": {},
     "output_type": "execute_result"
    }
   ],
   "source": [
    "registro"
   ]
  },
  {
   "cell_type": "code",
   "execution_count": 12,
   "id": "f3d50e65-87e3-44df-ae07-b1f83680cca3",
   "metadata": {},
   "outputs": [],
   "source": [
    "create_response = es.index(index='alura-cursos', body=registro)"
   ]
  },
  {
   "cell_type": "code",
   "execution_count": 13,
   "id": "ced06a88-6c5a-4a61-9d6b-42889f8be0cc",
   "metadata": {},
   "outputs": [],
   "source": [
    "id_registro = create_response['_id']"
   ]
  },
  {
   "cell_type": "code",
   "execution_count": 14,
   "id": "e9a464e4-7821-4f2a-ace7-00f97b706f9c",
   "metadata": {},
   "outputs": [
    {
     "data": {
      "text/plain": [
       "ObjectApiResponse({'_index': 'alura-cursos', '_id': '6cPOEJYBf5GUU5vep9kl', '_version': 1, 'result': 'created', '_shards': {'total': 2, 'successful': 1, 'failed': 0}, '_seq_no': 0, '_primary_term': 1})"
      ]
     },
     "execution_count": 14,
     "metadata": {},
     "output_type": "execute_result"
    }
   ],
   "source": [
    "create_response"
   ]
  },
  {
   "cell_type": "markdown",
   "id": "b44eec3f-8619-4680-999d-4acf7ae97044",
   "metadata": {},
   "source": [
    "### Atualizar um documento"
   ]
  },
  {
   "cell_type": "code",
   "execution_count": 15,
   "id": "7668cb83-031a-41be-b8ea-2575691a8454",
   "metadata": {},
   "outputs": [],
   "source": [
    "registro['title'] = registro['title'].lower()"
   ]
  },
  {
   "cell_type": "code",
   "execution_count": 16,
   "id": "756246ec-f1b7-4f8b-8e7d-f5a13fff52de",
   "metadata": {},
   "outputs": [
    {
     "data": {
      "text/plain": [
       "{'id': 'DEGREE-828628',\n",
       " 'title': 'flutter: cursos para automatizar testes',\n",
       " 'description': '<p>Aprenda a usar e personalizar testes automatizados - a ferramenta do Flutter para garantir a qualidade do código, descubra como criar testes de unidade, de widgets, e de integração, a simular dependências externas usando o mockito e otimizar a cobertura de testes!</p>\\r\\n',\n",
       " 'type': 'DEGREE',\n",
       " 'siteUrl': '/formacao-cursos-testes-automatizados-aplicativos-flutter'}"
      ]
     },
     "execution_count": 16,
     "metadata": {},
     "output_type": "execute_result"
    }
   ],
   "source": [
    "registro"
   ]
  },
  {
   "cell_type": "code",
   "execution_count": 17,
   "id": "cbce10d2-7fae-4df2-913f-e505a7c5271f",
   "metadata": {},
   "outputs": [],
   "source": [
    "update_response = es.update(index='alura-cursos', body={\"doc\": registro}, id=id_registro)"
   ]
  },
  {
   "cell_type": "code",
   "execution_count": 18,
   "id": "51e608c5-2c0e-4064-93e2-61e0c03a86a5",
   "metadata": {},
   "outputs": [
    {
     "data": {
      "text/plain": [
       "ObjectApiResponse({'_index': 'alura-cursos', '_id': '6cPOEJYBf5GUU5vep9kl', '_version': 2, 'result': 'updated', '_shards': {'total': 2, 'successful': 1, 'failed': 0}, '_seq_no': 1, '_primary_term': 1})"
      ]
     },
     "execution_count": 18,
     "metadata": {},
     "output_type": "execute_result"
    }
   ],
   "source": [
    "update_response"
   ]
  },
  {
   "cell_type": "markdown",
   "id": "d6ab532d-42da-4eaa-b7bb-7a18151df623",
   "metadata": {},
   "source": [
    "### Inserindo Vários documentos"
   ]
  },
  {
   "cell_type": "code",
   "execution_count": 19,
   "id": "3fbc2a48-acf7-4bdb-99b4-5d7999ceb35a",
   "metadata": {},
   "outputs": [
    {
     "name": "stderr",
     "output_type": "stream",
     "text": [
      "\n",
      "KeyboardInterrupt\n",
      "\n"
     ]
    }
   ],
   "source": [
    "for _doc in cursos_df.to_dict(orient='records'):\n",
    "    es.index(index='alura-cursos', body=_doc)"
   ]
  },
  {
   "cell_type": "markdown",
   "id": "286ab6e3-d630-472a-9381-e7e16a776d91",
   "metadata": {},
   "source": [
    "### Inserindo em lote"
   ]
  },
  {
   "cell_type": "code",
   "execution_count": 20,
   "id": "0712b63d-06d9-4d40-84e0-634941f85058",
   "metadata": {},
   "outputs": [],
   "source": [
    "from elasticsearch import helpers"
   ]
  },
  {
   "cell_type": "code",
   "execution_count": 21,
   "id": "de0bc324-5230-4357-a70c-490cf772319e",
   "metadata": {},
   "outputs": [],
   "source": [
    "actions = [\n",
    "    {\n",
    "        \"_index\": \"alura-cursos\",\n",
    "        \"_source\": curso\n",
    "    }\n",
    "    for curso in cursos_df.to_dict(orient='records')\n",
    "]"
   ]
  },
  {
   "cell_type": "code",
   "execution_count": 22,
   "id": "bd1a2eb1-2717-49f5-b88c-f23d8638f103",
   "metadata": {},
   "outputs": [
    {
     "data": {
      "text/plain": [
       "[{'_index': 'alura-cursos',\n",
       "  '_source': {'id': 'DEGREE-828628',\n",
       "   'title': 'Flutter: cursos para automatizar testes',\n",
       "   'description': '<p>Aprenda a usar e personalizar testes automatizados - a ferramenta do Flutter para garantir a qualidade do código, descubra como criar testes de unidade, de widgets, e de integração, a simular dependências externas usando o mockito e otimizar a cobertura de testes!</p>\\r\\n',\n",
       "   'type': 'DEGREE',\n",
       "   'siteUrl': '/formacao-cursos-testes-automatizados-aplicativos-flutter'}},\n",
       " {'_index': 'alura-cursos',\n",
       "  '_source': {'id': 'DEGREE-909375',\n",
       "   'title': 'Dart: cursos para aprender a linguagem utilizada no Flutter',\n",
       "   'description': '<p>Se você busca uma linguagem para desenvolver aplicações rápidas em qualquer plataforma, <strong>o Dart pode ser uma escolha excelente.</strong> </p>\\r\\n<p>Essa linguagem tem se destacado por sua produtividade no desenvolvimento multiplataforma, combinada com uma flexibilidade que permite você criar tanto aplicações web, quanto aplicativos mobile com o Flutter, por exemplo.</p>\\r\\n<p>Nesta formação, você irá conhecer o Dart e aprender:</p>\\r\\n<ul><li>As vantagens e desvantagens da utilização do Dart nos seus projetos;</li><li>Instalar e utilizar as ferramentas;</li><li>O que são variáveis, listas, laços de repetição e boas práticas da linguagem;</li><li>Como o paradigma de orientação a objetos se aplica ao Dart;</li><li>Questões de sintaxe e dinamismo na linguagem de programação;</li><li>O que são exceções e como lidar com elas;</li><li>Assincronismo no Dart e muito mais!</li></ul>\\r\\n<p>E para iniciar essa formação você só precisa ter uma boa base em <strong>lógica de programação.</strong></p>\\r\\n<p>Ao finalizar esta formação, você será capaz de desenvolver uma aplicação com Dart e implementar funcionalidades, aplicando técnicas diversas e entendendo os fundamentos da linguagem.</p>\\r\\n<p>Bons estudos!</p>\\r\\n',\n",
       "   'type': 'DEGREE',\n",
       "   'siteUrl': '/formacao-dart-cursos-aprender-linguagem-utilizada-flutter'}}]"
      ]
     },
     "execution_count": 22,
     "metadata": {},
     "output_type": "execute_result"
    }
   ],
   "source": [
    "actions[:2]"
   ]
  },
  {
   "cell_type": "code",
   "execution_count": 23,
   "id": "45608347-3d07-4a1b-81d9-1ffdffe199da",
   "metadata": {},
   "outputs": [],
   "source": [
    "response = helpers.bulk(es, actions)"
   ]
  },
  {
   "cell_type": "code",
   "execution_count": 24,
   "id": "69f9b67c-9f41-480c-b3bc-b43d534ca4ee",
   "metadata": {},
   "outputs": [
    {
     "data": {
      "text/plain": [
       "(2500, [])"
      ]
     },
     "execution_count": 24,
     "metadata": {},
     "output_type": "execute_result"
    }
   ],
   "source": [
    "response"
   ]
  },
  {
   "cell_type": "markdown",
   "id": "eccf1d38-6ffe-4729-90e4-c4fdb3e877dc",
   "metadata": {},
   "source": [
    "## Entendendo Mapping"
   ]
  },
  {
   "cell_type": "markdown",
   "id": "8a4867ee-73c1-4d5e-a77a-0628db614da5",
   "metadata": {},
   "source": [
    "### Gerando uma amostra"
   ]
  },
  {
   "cell_type": "code",
   "execution_count": 26,
   "id": "0eca23ab-cbef-4ded-b683-412e6451a065",
   "metadata": {},
   "outputs": [],
   "source": [
    "sample_cursos_id_inteiro = cursos_df.sample(100)\n",
    "sample_cursos_id_str = cursos_df.sample(100)"
   ]
  },
  {
   "cell_type": "code",
   "execution_count": 28,
   "id": "5e4332f7-4082-4d71-bfcf-ebbd01a2433d",
   "metadata": {},
   "outputs": [],
   "source": [
    "sample_cursos_id_inteiro['id'] = sample_cursos_id_inteiro['id'].apply(lambda x: int(x.split('-')[-1]))"
   ]
  },
  {
   "cell_type": "code",
   "execution_count": 29,
   "id": "c59330a2-d874-4e76-bbbe-35829bf2d8d3",
   "metadata": {},
   "outputs": [
    {
     "name": "stdout",
     "output_type": "stream",
     "text": [
      "<class 'pandas.core.frame.DataFrame'>\n",
      "Index: 100 entries, 1956 to 655\n",
      "Data columns (total 5 columns):\n",
      " #   Column       Non-Null Count  Dtype \n",
      "---  ------       --------------  ----- \n",
      " 0   id           100 non-null    int64 \n",
      " 1   title        100 non-null    object\n",
      " 2   description  100 non-null    object\n",
      " 3   type         100 non-null    object\n",
      " 4   siteUrl      100 non-null    object\n",
      "dtypes: int64(1), object(4)\n",
      "memory usage: 4.7+ KB\n"
     ]
    }
   ],
   "source": [
    "sample_cursos_id_inteiro.info()"
   ]
  },
  {
   "cell_type": "markdown",
   "id": "21a3325f-324b-4ed9-9d52-f807065bb1bd",
   "metadata": {},
   "source": [
    "### Criando Index"
   ]
  },
  {
   "cell_type": "code",
   "execution_count": 30,
   "id": "c08ce34e-fb25-4ea8-80db-d2a81aa7f83a",
   "metadata": {},
   "outputs": [
    {
     "name": "stdout",
     "output_type": "stream",
     "text": [
      "{'acknowledged': True, 'shards_acknowledged': True, 'index': 'alura-cursos-mapping'}\n"
     ]
    }
   ],
   "source": [
    "response = es.indices.create(index='alura-cursos-mapping')\n",
    "\n",
    "print(response)"
   ]
  },
  {
   "cell_type": "markdown",
   "id": "a0ea0f49-e4a5-4297-abeb-1aea57ccbdeb",
   "metadata": {},
   "source": [
    "### Indexando dados com diferentes formatos"
   ]
  },
  {
   "cell_type": "markdown",
   "id": "e907705e-6fab-461b-b552-e8229c2fd744",
   "metadata": {},
   "source": [
    "##### Ids (Long) "
   ]
  },
  {
   "cell_type": "code",
   "execution_count": 31,
   "id": "307d523f-0f9b-4678-a457-e569c71997f1",
   "metadata": {},
   "outputs": [],
   "source": [
    "actions = [\n",
    "    {\n",
    "        \"_index\": \"alura-cursos-mapping\",\n",
    "        \"_source\": curso\n",
    "    }\n",
    "    for curso in sample_cursos_id_inteiro.to_dict(orient='records')\n",
    "]"
   ]
  },
  {
   "cell_type": "code",
   "execution_count": 32,
   "id": "9fc9720f-1aff-482f-a429-de3bcab5288c",
   "metadata": {},
   "outputs": [
    {
     "data": {
      "text/plain": [
       "(100, [])"
      ]
     },
     "execution_count": 32,
     "metadata": {},
     "output_type": "execute_result"
    }
   ],
   "source": [
    "helpers.bulk(es,actions=actions)"
   ]
  },
  {
   "cell_type": "code",
   "execution_count": 39,
   "id": "a235acb7-9848-4ac1-9aca-dcb9bad99bbe",
   "metadata": {},
   "outputs": [],
   "source": [
    "actions = [\n",
    "    {\n",
    "        \"_index\": \"alura-cursos-schema\",\n",
    "        \"_source\": curso\n",
    "    }\n",
    "    for curso in sample_cursos_id_inteiro.to_dict(orient='records')\n",
    "]"
   ]
  },
  {
   "cell_type": "code",
   "execution_count": 40,
   "id": "c38b3b01-dfa9-487c-8e61-e865fa5a165b",
   "metadata": {},
   "outputs": [
    {
     "data": {
      "text/plain": [
       "(100, [])"
      ]
     },
     "execution_count": 40,
     "metadata": {},
     "output_type": "execute_result"
    }
   ],
   "source": [
    "helpers.bulk(es,actions=actions)"
   ]
  },
  {
   "cell_type": "markdown",
   "id": "5ea2618d-2c50-4356-b43b-a3e06311e2a5",
   "metadata": {},
   "source": [
    "##### Ids (text) "
   ]
  },
  {
   "cell_type": "code",
   "execution_count": 33,
   "id": "0cddb79c-539c-448b-8e5c-141fd46ff48e",
   "metadata": {},
   "outputs": [],
   "source": [
    "actions = [\n",
    "    {\n",
    "        \"_index\": \"alura-cursos-mapping\",\n",
    "        \"_source\": curso\n",
    "    }\n",
    "    for curso in sample_cursos_id_str.to_dict(orient='records')\n",
    "]"
   ]
  },
  {
   "cell_type": "code",
   "execution_count": 34,
   "id": "8c89ab46-d7c9-448e-85c2-467ab970033f",
   "metadata": {},
   "outputs": [
    {
     "ename": "BulkIndexError",
     "evalue": "100 document(s) failed to index.",
     "output_type": "error",
     "traceback": [
      "\u001b[0;31m---------------------------------------------------------------------------\u001b[0m",
      "\u001b[0;31mBulkIndexError\u001b[0m                            Traceback (most recent call last)",
      "Cell \u001b[0;32mIn[34], line 1\u001b[0m\n\u001b[0;32m----> 1\u001b[0m \u001b[43mhelpers\u001b[49m\u001b[38;5;241;43m.\u001b[39;49m\u001b[43mbulk\u001b[49m\u001b[43m(\u001b[49m\u001b[43mes\u001b[49m\u001b[43m,\u001b[49m\u001b[43mactions\u001b[49m\u001b[38;5;241;43m=\u001b[39;49m\u001b[43mactions\u001b[49m\u001b[43m)\u001b[49m\n",
      "File \u001b[0;32m~/.local/share/virtualenvs/Notebooks-PrZKs0pk/lib/python3.10/site-packages/elasticsearch/helpers/actions.py:540\u001b[0m, in \u001b[0;36mbulk\u001b[0;34m(client, actions, stats_only, ignore_status, *args, **kwargs)\u001b[0m\n\u001b[1;32m    538\u001b[0m \u001b[38;5;66;03m# make streaming_bulk yield successful results so we can count them\u001b[39;00m\n\u001b[1;32m    539\u001b[0m kwargs[\u001b[38;5;124m\"\u001b[39m\u001b[38;5;124myield_ok\u001b[39m\u001b[38;5;124m\"\u001b[39m] \u001b[38;5;241m=\u001b[39m \u001b[38;5;28;01mTrue\u001b[39;00m\n\u001b[0;32m--> 540\u001b[0m \u001b[38;5;28;01mfor\u001b[39;00m ok, item \u001b[38;5;129;01min\u001b[39;00m streaming_bulk(\n\u001b[1;32m    541\u001b[0m     client, actions, ignore_status\u001b[38;5;241m=\u001b[39mignore_status, span_name\u001b[38;5;241m=\u001b[39m\u001b[38;5;124m\"\u001b[39m\u001b[38;5;124mhelpers.bulk\u001b[39m\u001b[38;5;124m\"\u001b[39m, \u001b[38;5;241m*\u001b[39margs, \u001b[38;5;241m*\u001b[39m\u001b[38;5;241m*\u001b[39mkwargs  \u001b[38;5;66;03m# type: ignore[misc]\u001b[39;00m\n\u001b[1;32m    542\u001b[0m ):\n\u001b[1;32m    543\u001b[0m     \u001b[38;5;66;03m# go through request-response pairs and detect failures\u001b[39;00m\n\u001b[1;32m    544\u001b[0m     \u001b[38;5;28;01mif\u001b[39;00m \u001b[38;5;129;01mnot\u001b[39;00m ok:\n\u001b[1;32m    545\u001b[0m         \u001b[38;5;28;01mif\u001b[39;00m \u001b[38;5;129;01mnot\u001b[39;00m stats_only:\n",
      "File \u001b[0;32m~/.local/share/virtualenvs/Notebooks-PrZKs0pk/lib/python3.10/site-packages/elasticsearch/helpers/actions.py:453\u001b[0m, in \u001b[0;36mstreaming_bulk\u001b[0;34m(client, actions, chunk_size, max_chunk_bytes, raise_on_error, expand_action_callback, raise_on_exception, max_retries, initial_backoff, max_backoff, yield_ok, ignore_status, retry_on_status, span_name, *args, **kwargs)\u001b[0m\n\u001b[1;32m    450\u001b[0m     time\u001b[38;5;241m.\u001b[39msleep(\u001b[38;5;28mmin\u001b[39m(max_backoff, initial_backoff \u001b[38;5;241m*\u001b[39m \u001b[38;5;241m2\u001b[39m \u001b[38;5;241m*\u001b[39m\u001b[38;5;241m*\u001b[39m (attempt \u001b[38;5;241m-\u001b[39m \u001b[38;5;241m1\u001b[39m)))\n\u001b[1;32m    452\u001b[0m \u001b[38;5;28;01mtry\u001b[39;00m:\n\u001b[0;32m--> 453\u001b[0m     \u001b[38;5;28;01mfor\u001b[39;00m data, (ok, info) \u001b[38;5;129;01min\u001b[39;00m \u001b[38;5;28mzip\u001b[39m(\n\u001b[1;32m    454\u001b[0m         bulk_data,\n\u001b[1;32m    455\u001b[0m         _process_bulk_chunk(\n\u001b[1;32m    456\u001b[0m             client,\n\u001b[1;32m    457\u001b[0m             bulk_actions,\n\u001b[1;32m    458\u001b[0m             bulk_data,\n\u001b[1;32m    459\u001b[0m             otel_span,\n\u001b[1;32m    460\u001b[0m             raise_on_exception,\n\u001b[1;32m    461\u001b[0m             raise_on_error,\n\u001b[1;32m    462\u001b[0m             ignore_status,\n\u001b[1;32m    463\u001b[0m             \u001b[38;5;241m*\u001b[39margs,\n\u001b[1;32m    464\u001b[0m             \u001b[38;5;241m*\u001b[39m\u001b[38;5;241m*\u001b[39mkwargs,\n\u001b[1;32m    465\u001b[0m         ),\n\u001b[1;32m    466\u001b[0m     ):\n\u001b[1;32m    467\u001b[0m         \u001b[38;5;28;01mif\u001b[39;00m \u001b[38;5;129;01mnot\u001b[39;00m ok:\n\u001b[1;32m    468\u001b[0m             action, info \u001b[38;5;241m=\u001b[39m info\u001b[38;5;241m.\u001b[39mpopitem()\n",
      "File \u001b[0;32m~/.local/share/virtualenvs/Notebooks-PrZKs0pk/lib/python3.10/site-packages/elasticsearch/helpers/actions.py:359\u001b[0m, in \u001b[0;36m_process_bulk_chunk\u001b[0;34m(client, bulk_actions, bulk_data, otel_span, raise_on_exception, raise_on_error, ignore_status, *args, **kwargs)\u001b[0m\n\u001b[1;32m    352\u001b[0m \u001b[38;5;28;01melse\u001b[39;00m:\n\u001b[1;32m    353\u001b[0m     gen \u001b[38;5;241m=\u001b[39m _process_bulk_chunk_success(\n\u001b[1;32m    354\u001b[0m         resp\u001b[38;5;241m=\u001b[39mresp\u001b[38;5;241m.\u001b[39mbody,\n\u001b[1;32m    355\u001b[0m         bulk_data\u001b[38;5;241m=\u001b[39mbulk_data,\n\u001b[1;32m    356\u001b[0m         ignore_status\u001b[38;5;241m=\u001b[39mignore_status,\n\u001b[1;32m    357\u001b[0m         raise_on_error\u001b[38;5;241m=\u001b[39mraise_on_error,\n\u001b[1;32m    358\u001b[0m     )\n\u001b[0;32m--> 359\u001b[0m \u001b[38;5;28;01myield from\u001b[39;00m gen\n",
      "File \u001b[0;32m~/.local/share/virtualenvs/Notebooks-PrZKs0pk/lib/python3.10/site-packages/elasticsearch/helpers/actions.py:276\u001b[0m, in \u001b[0;36m_process_bulk_chunk_success\u001b[0;34m(resp, bulk_data, ignore_status, raise_on_error)\u001b[0m\n\u001b[1;32m    273\u001b[0m         \u001b[38;5;28;01myield\u001b[39;00m ok, {op_type: item}\n\u001b[1;32m    275\u001b[0m \u001b[38;5;28;01mif\u001b[39;00m errors:\n\u001b[0;32m--> 276\u001b[0m     \u001b[38;5;28;01mraise\u001b[39;00m BulkIndexError(\u001b[38;5;124mf\u001b[39m\u001b[38;5;124m\"\u001b[39m\u001b[38;5;132;01m{\u001b[39;00m\u001b[38;5;28mlen\u001b[39m(errors)\u001b[38;5;132;01m}\u001b[39;00m\u001b[38;5;124m document(s) failed to index.\u001b[39m\u001b[38;5;124m\"\u001b[39m, errors)\n",
      "\u001b[0;31mBulkIndexError\u001b[0m: 100 document(s) failed to index."
     ]
    }
   ],
   "source": [
    "helpers.bulk(es,actions=actions)"
   ]
  },
  {
   "cell_type": "markdown",
   "id": "3519200f-0144-4a99-80cb-4ef279276304",
   "metadata": {},
   "source": [
    "### Criando Mapping"
   ]
  },
  {
   "cell_type": "code",
   "execution_count": 35,
   "id": "cb5f49dd-b775-4854-81b1-88e37d5d14e0",
   "metadata": {},
   "outputs": [],
   "source": [
    "mapping = {\n",
    "    \"mappings\": {\n",
    "    \"properties\": {\n",
    "      \"description\": {\n",
    "        \"type\": \"text\",\n",
    "        \"fields\": {\n",
    "          \"keyword\": {\n",
    "            \"type\": \"keyword\",\n",
    "            \"ignore_above\": 256\n",
    "          }\n",
    "        }\n",
    "      },\n",
    "      \"id\": {\n",
    "        \"type\": \"text\",\n",
    "        \"fields\": {\n",
    "          \"keyword\": {\n",
    "            \"type\": \"keyword\",\n",
    "            \"ignore_above\": 256\n",
    "          }\n",
    "        }\n",
    "      },\n",
    "      \"siteUrl\": {\n",
    "        \"type\": \"text\",\n",
    "        \"fields\": {\n",
    "          \"keyword\": {\n",
    "            \"type\": \"keyword\",\n",
    "            \"ignore_above\": 256\n",
    "          }\n",
    "        }\n",
    "      },\n",
    "      \"title\": {\n",
    "        \"type\": \"text\",\n",
    "        \"fields\": {\n",
    "          \"keyword\": {\n",
    "            \"type\": \"keyword\",\n",
    "            \"ignore_above\": 256\n",
    "          }\n",
    "        }\n",
    "      },\n",
    "      \"type\": {\n",
    "        \"type\": \"text\",\n",
    "        \"fields\": {\n",
    "          \"keyword\": {\n",
    "            \"type\": \"keyword\",\n",
    "            \"ignore_above\": 256\n",
    "          }\n",
    "        }\n",
    "      }\n",
    "    }\n",
    "  }\n",
    "}"
   ]
  },
  {
   "cell_type": "code",
   "execution_count": 36,
   "id": "31e54305-ff89-4b0a-8434-7e3b422c47c2",
   "metadata": {},
   "outputs": [
    {
     "data": {
      "text/plain": [
       "ObjectApiResponse({'acknowledged': True, 'shards_acknowledged': True, 'index': 'alura-cursos-schema'})"
      ]
     },
     "execution_count": 36,
     "metadata": {},
     "output_type": "execute_result"
    }
   ],
   "source": [
    "es.indices.create(index=\"alura-cursos-schema\",body=mapping)"
   ]
  },
  {
   "cell_type": "code",
   "execution_count": 37,
   "id": "a8479ddf-c3e3-4600-bba6-269cd8a1ea4b",
   "metadata": {},
   "outputs": [
    {
     "name": "stdout",
     "output_type": "stream",
     "text": [
      "{'alura-cursos-schema': {'aliases': {},\n",
      "                         'mappings': {'properties': {'description': {'fields': {'keyword': {'ignore_above': 256,\n",
      "                                                                                            'type': 'keyword'}},\n",
      "                                                                     'type': 'text'},\n",
      "                                                     'id': {'fields': {'keyword': {'ignore_above': 256,\n",
      "                                                                                   'type': 'keyword'}},\n",
      "                                                            'type': 'text'},\n",
      "                                                     'siteUrl': {'fields': {'keyword': {'ignore_above': 256,\n",
      "                                                                                        'type': 'keyword'}},\n",
      "                                                                 'type': 'text'},\n",
      "                                                     'title': {'fields': {'keyword': {'ignore_above': 256,\n",
      "                                                                                      'type': 'keyword'}},\n",
      "                                                               'type': 'text'},\n",
      "                                                     'type': {'fields': {'keyword': {'ignore_above': 256,\n",
      "                                                                                     'type': 'keyword'}},\n",
      "                                                              'type': 'text'}}},\n",
      "                         'settings': {'index': {'creation_date': '1744039233467',\n",
      "                                                'number_of_replicas': '1',\n",
      "                                                'number_of_shards': '1',\n",
      "                                                'provided_name': 'alura-cursos-schema',\n",
      "                                                'routing': {'allocation': {'include': {'_tier_preference': 'data_content'}}},\n",
      "                                                'uuid': 'qrsiseDPT9SzGv3koH-dbw',\n",
      "                                                'version': {'created': '8521000'}}}}}\n"
     ]
    }
   ],
   "source": [
    "from pprint import pprint \n",
    "\n",
    "pprint(dict(es.indices.get(index='alura-cursos-schema')))"
   ]
  },
  {
   "cell_type": "markdown",
   "id": "0b937a6a-5ea9-43d9-b55e-0584522940c9",
   "metadata": {},
   "source": [
    "## Compreendendo melhor a Indexação"
   ]
  },
  {
   "cell_type": "markdown",
   "id": "bed7c163-aa62-4fb2-896e-ddd1fedcc923",
   "metadata": {},
   "source": [
    "## Processo de Ingestão"
   ]
  },
  {
   "cell_type": "markdown",
   "id": "98be4a89-6d00-48d9-8298-2fc716c304fd",
   "metadata": {},
   "source": [
    "![Texto Alternativo](images/data_processing_flow.png)"
   ]
  },
  {
   "cell_type": "markdown",
   "id": "de10836d-46e3-438a-9a1a-c090502dd0ec",
   "metadata": {},
   "source": [
    "## Análise de Texto"
   ]
  },
  {
   "cell_type": "markdown",
   "id": "384f211e-4e79-4dbf-a6c6-ea14b6ad2ba0",
   "metadata": {},
   "source": [
    "![Texto Alternativo](images/analysis-chain.png)"
   ]
  },
  {
   "cell_type": "markdown",
   "id": "e671dd32-66b6-4578-9567-73b7d5a6fe55",
   "metadata": {},
   "source": [
    "## Exemplo de texto"
   ]
  },
  {
   "cell_type": "markdown",
   "id": "3f0facaa-5616-4b00-b4da-2b47839acd09",
   "metadata": {},
   "source": [
    "![Texto Alternativo](images/Analyzer-example.png)"
   ]
  }
 ],
 "metadata": {
  "kernelspec": {
   "display_name": "Python 3 (ipykernel)",
   "language": "python",
   "name": "python3"
  },
  "language_info": {
   "codemirror_mode": {
    "name": "ipython",
    "version": 3
   },
   "file_extension": ".py",
   "mimetype": "text/x-python",
   "name": "python",
   "nbconvert_exporter": "python",
   "pygments_lexer": "ipython3",
   "version": "3.10.16"
  }
 },
 "nbformat": 4,
 "nbformat_minor": 5
}
