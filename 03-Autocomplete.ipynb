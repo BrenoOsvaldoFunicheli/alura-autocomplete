{
 "cells": [
  {
   "cell_type": "markdown",
   "id": "0763f6f3-ea6e-4c9c-a1fc-122a4e128b13",
   "metadata": {},
   "source": [
    "# Autocomplete"
   ]
  },
  {
   "cell_type": "markdown",
   "id": "15905691-6f5a-46c7-860e-9c74b36e799a",
   "metadata": {
    "tags": []
   },
   "source": [
    "## O que é um ngram ?"
   ]
  },
  {
   "cell_type": "markdown",
   "id": "1d4d0a5e-f2bf-4471-be8d-4cc3bad5f1a5",
   "metadata": {},
   "source": [
    "### COFFEE"
   ]
  },
  {
   "cell_type": "markdown",
   "id": "f4d759ec-ca50-4e0d-8836-8705a0ce154e",
   "metadata": {},
   "source": [
    "![Texto Alternativo](images/edge_ngram.png)"
   ]
  },
  {
   "cell_type": "markdown",
   "id": "4680d0db-07a5-4b7c-a20d-1ae1a3d8ec7d",
   "metadata": {},
   "source": [
    "### Como fica a Indexação"
   ]
  },
  {
   "cell_type": "markdown",
   "id": "4f9d59ef-0db4-494b-a9ff-de51073986ff",
   "metadata": {},
   "source": [
    "![Texto Alternativo](images/analyzer.png)"
   ]
  },
  {
   "cell_type": "markdown",
   "id": "c6257ba8-7d03-440e-b6f3-0bd89e7810ac",
   "metadata": {
    "tags": []
   },
   "source": [
    "## Configurando Index"
   ]
  },
  {
   "cell_type": "code",
   "execution_count": 1,
   "id": "a18cf379-6ce6-40f3-b114-f41e4e58569f",
   "metadata": {},
   "outputs": [],
   "source": [
    "mappings = {\n",
    "  \"settings\": {\n",
    "    \"analysis\": {\n",
    "      \"filter\": {\n",
    "        \"autocomplete_filter\": {\n",
    "          \"type\": \"edge_ngram\",\n",
    "          \"min_gram\": 1,\n",
    "          \"max_gram\": 20\n",
    "        }\n",
    "      },\n",
    "      \"analyzer\": {\n",
    "        \"autocomplete\": {\n",
    "          \"type\": \"custom\",\n",
    "          \"tokenizer\": \"standard\",\n",
    "          \"filter\": [\n",
    "            \"lowercase\",\n",
    "            \"autocomplete_filter\"\n",
    "          ]\n",
    "        },\n",
    "        \"autocomplete_search\": {\n",
    "          \"type\": \"custom\",\n",
    "          \"tokenizer\": \"standard\",\n",
    "          \"filter\": [\n",
    "            \"lowercase\"\n",
    "          ]\n",
    "        }\n",
    "      }\n",
    "    }\n",
    "  },\n",
    "  \"mappings\": {\n",
    "    \"properties\": {\n",
    "      \"title\": {\n",
    "        \"type\": \"text\",\n",
    "        \"analyzer\": \"autocomplete\",\n",
    "        \"search_analyzer\": \"autocomplete_search\"\n",
    "      }\n",
    "    }\n",
    "  }\n",
    "}"
   ]
  },
  {
   "cell_type": "markdown",
   "id": "9358479b-0e59-401a-8c63-1ec84b8f8957",
   "metadata": {},
   "source": [
    "## Inserindo dados"
   ]
  },
  {
   "cell_type": "code",
   "execution_count": 2,
   "id": "1dd9d825-cd5f-47ac-8359-1e5e232d7eef",
   "metadata": {},
   "outputs": [
    {
     "name": "stdout",
     "output_type": "stream",
     "text": [
      "Conexão bem-sucedida ao Elasticsearch!\n"
     ]
    },
    {
     "name": "stderr",
     "output_type": "stream",
     "text": [
      "/tmp/ipykernel_49652/2922222961.py:12: DeprecationWarning: The 'http_auth' parameter is deprecated. Use 'basic_auth' or 'bearer_auth' parameters instead\n",
      "  es = Elasticsearch(\n"
     ]
    }
   ],
   "source": [
    "password='XxZiSgIG'\n",
    "\n",
    "from elasticsearch import Elasticsearch\n",
    "\n",
    "\n",
    "# Configurações do Elasticsearch\n",
    "ELASTICSEARCH_HOST = \"http://localhost:9200/\"\n",
    "ELASTICSEARCH_USER = \"elastic\"  # Usuário padrão\n",
    "ELASTICSEARCH_PASSWORD = password  # senha \n",
    "\n",
    "# Conectar ao Elasticsearch\n",
    "es = Elasticsearch(\n",
    "    [ELASTICSEARCH_HOST],\n",
    "    http_auth=(ELASTICSEARCH_USER, ELASTICSEARCH_PASSWORD),\n",
    "    verify_certs=False  # Desabilitar a verificação do SSL\n",
    ")\n",
    "\n",
    "# Verificar a conexão\n",
    "if es.ping():\n",
    "    print(\"Conexão bem-sucedida ao Elasticsearch!\")\n",
    "else:\n",
    "    print(\"Falha ao conectar ao Elasticsearch. Verifique as configurações.\")\n"
   ]
  },
  {
   "cell_type": "markdown",
   "id": "46b42038-ecd3-4a97-906f-2522a8185895",
   "metadata": {},
   "source": [
    "### Criando Index para o autocomplete"
   ]
  },
  {
   "cell_type": "code",
   "execution_count": 3,
   "id": "fe516944-9032-4c20-8a8d-9e66d498ae2a",
   "metadata": {},
   "outputs": [],
   "source": [
    "index_='cursos-autocomplete'"
   ]
  },
  {
   "cell_type": "code",
   "execution_count": 4,
   "id": "edd0cdb0-da7d-4586-838a-df166bcef455",
   "metadata": {},
   "outputs": [
    {
     "name": "stdout",
     "output_type": "stream",
     "text": [
      "{'acknowledged': True, 'shards_acknowledged': True, 'index': 'cursos-autocomplete'}\n"
     ]
    }
   ],
   "source": [
    "response = es.indices.create(index=index_, body=mappings)\n",
    "\n",
    "print(response)"
   ]
  },
  {
   "cell_type": "markdown",
   "id": "472df6b0-5edd-42fc-a544-fadce870a3b5",
   "metadata": {},
   "source": [
    "### Inserindo Dados"
   ]
  },
  {
   "cell_type": "markdown",
   "id": "cd4b788f-e76f-4b1b-9892-7ef80b8b478c",
   "metadata": {},
   "source": [
    "#### Carregando dados"
   ]
  },
  {
   "cell_type": "code",
   "execution_count": 6,
   "id": "2ae2dd84-94e7-4100-bb34-c2c19610f213",
   "metadata": {
    "tags": []
   },
   "outputs": [
    {
     "data": {
      "text/html": [
       "<div>\n",
       "<style scoped>\n",
       "    .dataframe tbody tr th:only-of-type {\n",
       "        vertical-align: middle;\n",
       "    }\n",
       "\n",
       "    .dataframe tbody tr th {\n",
       "        vertical-align: top;\n",
       "    }\n",
       "\n",
       "    .dataframe thead th {\n",
       "        text-align: right;\n",
       "    }\n",
       "</style>\n",
       "<table border=\"1\" class=\"dataframe\">\n",
       "  <thead>\n",
       "    <tr style=\"text-align: right;\">\n",
       "      <th></th>\n",
       "      <th>id</th>\n",
       "      <th>title</th>\n",
       "      <th>description</th>\n",
       "      <th>type</th>\n",
       "      <th>siteUrl</th>\n",
       "    </tr>\n",
       "  </thead>\n",
       "  <tbody>\n",
       "    <tr>\n",
       "      <th>0</th>\n",
       "      <td>DEGREE-828628</td>\n",
       "      <td>Flutter: cursos para automatizar testes</td>\n",
       "      <td>&lt;p&gt;Aprenda a usar e personalizar testes automa...</td>\n",
       "      <td>DEGREE</td>\n",
       "      <td>/formacao-cursos-testes-automatizados-aplicati...</td>\n",
       "    </tr>\n",
       "    <tr>\n",
       "      <th>1</th>\n",
       "      <td>DEGREE-909375</td>\n",
       "      <td>Dart: cursos para aprender a linguagem utiliza...</td>\n",
       "      <td>&lt;p&gt;Se você busca uma linguagem para desenvolve...</td>\n",
       "      <td>DEGREE</td>\n",
       "      <td>/formacao-dart-cursos-aprender-linguagem-utili...</td>\n",
       "    </tr>\n",
       "    <tr>\n",
       "      <th>2</th>\n",
       "      <td>DEGREE-907699</td>\n",
       "      <td>CSS avançado: implementando designs com Grid, ...</td>\n",
       "      <td>&lt;p&gt;Se você já conhece &lt;strong&gt;HTML&lt;/strong&gt; e ...</td>\n",
       "      <td>DEGREE</td>\n",
       "      <td>/formacao-css-cursos-transformar-designs-grid-...</td>\n",
       "    </tr>\n",
       "    <tr>\n",
       "      <th>3</th>\n",
       "      <td>DEGREE-824634</td>\n",
       "      <td>Angular: construa um Design System com Nx, Mon...</td>\n",
       "      <td>&lt;p&gt;Nesta formação, você vai desenvolver do zer...</td>\n",
       "      <td>DEGREE</td>\n",
       "      <td>/formacao-angular-cursos-construir-design-syst...</td>\n",
       "    </tr>\n",
       "    <tr>\n",
       "      <th>4</th>\n",
       "      <td>DEGREE-515205</td>\n",
       "      <td>Certificação AZ-900: Microsoft Azure Fundamentals</td>\n",
       "      <td>&lt;p&gt;O curso &lt;strong&gt;AZ-900 - Microsoft Azure Fu...</td>\n",
       "      <td>DEGREE</td>\n",
       "      <td>/formacao-certificacao-az-900-microsoft-azure-...</td>\n",
       "    </tr>\n",
       "  </tbody>\n",
       "</table>\n",
       "</div>"
      ],
      "text/plain": [
       "              id                                              title  \\\n",
       "0  DEGREE-828628            Flutter: cursos para automatizar testes   \n",
       "1  DEGREE-909375  Dart: cursos para aprender a linguagem utiliza...   \n",
       "2  DEGREE-907699  CSS avançado: implementando designs com Grid, ...   \n",
       "3  DEGREE-824634  Angular: construa um Design System com Nx, Mon...   \n",
       "4  DEGREE-515205  Certificação AZ-900: Microsoft Azure Fundamentals   \n",
       "\n",
       "                                         description    type  \\\n",
       "0  <p>Aprenda a usar e personalizar testes automa...  DEGREE   \n",
       "1  <p>Se você busca uma linguagem para desenvolve...  DEGREE   \n",
       "2  <p>Se você já conhece <strong>HTML</strong> e ...  DEGREE   \n",
       "3  <p>Nesta formação, você vai desenvolver do zer...  DEGREE   \n",
       "4  <p>O curso <strong>AZ-900 - Microsoft Azure Fu...  DEGREE   \n",
       "\n",
       "                                             siteUrl  \n",
       "0  /formacao-cursos-testes-automatizados-aplicati...  \n",
       "1  /formacao-dart-cursos-aprender-linguagem-utili...  \n",
       "2  /formacao-css-cursos-transformar-designs-grid-...  \n",
       "3  /formacao-angular-cursos-construir-design-syst...  \n",
       "4  /formacao-certificacao-az-900-microsoft-azure-...  "
      ]
     },
     "execution_count": 6,
     "metadata": {},
     "output_type": "execute_result"
    }
   ],
   "source": [
    "import pandas as pd\n",
    "\n",
    "cursos = pd.read_json('data/alura-cursos-formacoes-dataset.json')\n",
    "\n",
    "cursos['description'] = cursos['description'].apply(lambda x: x['raw'])\n",
    "\n",
    "cursos_df = cursos[['id','title','description','type','siteUrl']]\n",
    "\n",
    "cursos_df.head()"
   ]
  },
  {
   "cell_type": "markdown",
   "id": "7c896429-ab23-48e0-ad23-95eca431f139",
   "metadata": {},
   "source": [
    "#### Inserindo"
   ]
  },
  {
   "cell_type": "code",
   "execution_count": 7,
   "id": "263b92fb-f893-4f9c-85f3-b480aa624249",
   "metadata": {},
   "outputs": [],
   "source": [
    "from elasticsearch.helpers import bulk"
   ]
  },
  {
   "cell_type": "code",
   "execution_count": 8,
   "id": "d63f35dc-1f31-484a-bf81-b8c0f83cb577",
   "metadata": {},
   "outputs": [],
   "source": [
    "actions = [\n",
    "    {\n",
    "        \"_index\": index_,\n",
    "        \"_source\": curso\n",
    "    }\n",
    "    for curso in cursos_df.to_dict(orient='records')\n",
    "]"
   ]
  },
  {
   "cell_type": "code",
   "execution_count": 9,
   "id": "d1f44c83-7f7f-4c81-a414-270a655d9d31",
   "metadata": {},
   "outputs": [
    {
     "data": {
      "text/plain": [
       "(2500, [])"
      ]
     },
     "execution_count": 9,
     "metadata": {},
     "output_type": "execute_result"
    }
   ],
   "source": [
    "bulk(es, actions)"
   ]
  },
  {
   "cell_type": "markdown",
   "id": "7bf05d4b-5ead-44ec-a7ad-7f640949b263",
   "metadata": {},
   "source": [
    "## Testando Nosso autocomplete"
   ]
  },
  {
   "cell_type": "code",
   "execution_count": 10,
   "id": "28d2394e-a99d-4c26-9c51-91ee76908e6d",
   "metadata": {},
   "outputs": [],
   "source": [
    "def autocomplete(es, query, index):\n",
    "    body = {\n",
    "        \"query\": {\n",
    "            \"match\": {\n",
    "                \"title\": {\n",
    "                    \"query\": query,\n",
    "                    \"operator\": \"and\"\n",
    "                }\n",
    "            }\n",
    "        }\n",
    "    }\n",
    "    result = es.search(index=index, body=body)\n",
    "    return [hit[\"_source\"][\"title\"] for hit in result[\"hits\"][\"hits\"]]"
   ]
  },
  {
   "cell_type": "code",
   "execution_count": 12,
   "id": "b8795231-1c39-45f8-ab30-7e4dd251659d",
   "metadata": {},
   "outputs": [
    {
     "data": {
      "text/plain": [
       "['Google Big Query: consultas avançadas',\n",
       " 'Google BigQuery: navegando na nuvem',\n",
       " 'Google BigQuery: manipulação de dados',\n",
       " 'Google BigQuery: dominando Strings e Data',\n",
       " 'Google BigQuery: dominando funções lógicas e numéricas',\n",
       " 'Acesso ao Big Query: manipulação programático linguagens',\n",
       " 'Big Query ML: trabalhando com modelos de classificação']"
      ]
     },
     "execution_count": 12,
     "metadata": {},
     "output_type": "execute_result"
    }
   ],
   "source": [
    "autocomplete(es, \"BIG\", index_)"
   ]
  }
 ],
 "metadata": {
  "kernelspec": {
   "display_name": "Python 3 (ipykernel)",
   "language": "python",
   "name": "python3"
  },
  "language_info": {
   "codemirror_mode": {
    "name": "ipython",
    "version": 3
   },
   "file_extension": ".py",
   "mimetype": "text/x-python",
   "name": "python",
   "nbconvert_exporter": "python",
   "pygments_lexer": "ipython3",
   "version": "3.10.16"
  }
 },
 "nbformat": 4,
 "nbformat_minor": 5
}
